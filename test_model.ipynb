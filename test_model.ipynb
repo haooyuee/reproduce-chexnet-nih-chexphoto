{
 "cells": [
  {
   "cell_type": "code",
   "execution_count": 1,
   "metadata": {},
   "outputs": [
    {
     "name": "stderr",
     "output_type": "stream",
     "text": [
      "d:\\machineLearning\\miniconda\\envs\\pytorch-gpu\\lib\\site-packages\\tqdm\\auto.py:22: TqdmWarning: IProgress not found. Please update jupyter and ipywidgets. See https://ipywidgets.readthedocs.io/en/stable/user_install.html\n",
      "  from .autonotebook import tqdm as notebook_tqdm\n"
     ]
    }
   ],
   "source": [
    "import torch\n",
    "from torchvision import transforms, utils\n",
    "import pandas as pd\n",
    "import numpy as np\n",
    "import csv\n",
    "\n",
    "import cxr_dataset as CXR\n",
    "import eval_model as E\n",
    "import metrics_model\n",
    "import model as M\n",
    "import argparse\n",
    "\n",
    "\n",
    "from tqdm import tqdm"
   ]
  },
  {
   "cell_type": "code",
   "execution_count": 2,
   "metadata": {},
   "outputs": [
    {
     "name": "stdout",
     "output_type": "stream",
     "text": [
      "Namespace(batch_size=32, dataset_path='imgdata/images-NIH-224/', lr=0.01, name='nih_25', num_epochs=1, weight_decay=0.0001)\n"
     ]
    }
   ],
   "source": [
    "parser = argparse.ArgumentParser()\n",
    "parser.add_argument('-name', type=str, default=\"nih_25\")\n",
    "parser.add_argument('--dataset_path', type=str, default=\"imgdata/images-NIH-224/\")\n",
    "parser.add_argument('--num_epochs', type=int, default=1, help='')\n",
    "parser.add_argument('--batch_size', type=int, default=32, help='')\n",
    "parser.add_argument('--lr', type=float, default=0.01, help='')\n",
    "parser.add_argument('--weight_decay', type=float, default=1e-4, help='')\n",
    "#parser.add_argument('--weight_decay', type=float, default=1e-4, help='')\n",
    "cfg = parser.parse_args(args=[]) #add this line to use argparse in Notebook\n",
    "\n",
    "print(cfg)"
   ]
  },
  {
   "cell_type": "code",
   "execution_count": 3,
   "metadata": {},
   "outputs": [],
   "source": [
    "mean = [0.485, 0.456, 0.406]\n",
    "std = [0.229, 0.224, 0.225]\n",
    "# define torchvision transforms\n",
    "data_transforms = {\n",
    "        'train': transforms.Compose([\n",
    "            transforms.RandomHorizontalFlip(),\n",
    "            transforms.Resize(224),\n",
    "            # because resize doesn't always give 224 x 224, this ensures 224 x\n",
    "            # 224\n",
    "            transforms.CenterCrop(224),\n",
    "            transforms.ToTensor(),\n",
    "            transforms.Normalize(mean, std)\n",
    "        ]),\n",
    "        'val': transforms.Compose([\n",
    "            transforms.Resize(224),\n",
    "            transforms.CenterCrop(224),\n",
    "            transforms.ToTensor(),\n",
    "            transforms.Normalize(mean, std)\n",
    "        ]),\n",
    "    }\n"
   ]
  },
  {
   "cell_type": "code",
   "execution_count": 4,
   "metadata": {},
   "outputs": [],
   "source": [
    "checkpoint_best = torch.load(f'results/{cfg.name}_checkpoint')\n",
    "model = checkpoint_best['model']"
   ]
  },
  {
   "cell_type": "code",
   "execution_count": 5,
   "metadata": {},
   "outputs": [
    {
     "name": "stderr",
     "output_type": "stream",
     "text": [
      "100%|██████████| 1403/1403 [03:11<00:00,  7.33it/s]\n"
     ]
    },
    {
     "name": "stdout",
     "output_type": "stream",
     "text": [
      "auc\n",
      "f1\n",
      "recall\n",
      "MMC\n",
      "precision\n",
      "accuracy\n",
      "gmean\n"
     ]
    }
   ],
   "source": [
    "pred_df, metric_res = metrics_model.make_metrics_multilabel(data_transforms, model, cfg)"
   ]
  },
  {
   "cell_type": "code",
   "execution_count": 6,
   "metadata": {},
   "outputs": [
    {
     "data": {
      "text/plain": [
       "{'auc': {'Atelectasis': 0.807972798578012,\n",
       "  'Cardiomegaly': 0.8941761297736419,\n",
       "  'Consolidation': 0.8010879632738195,\n",
       "  'Edema': 0.8889803568404686,\n",
       "  'Effusion': 0.8775330440017015,\n",
       "  'Emphysema': 0.9168381825552749,\n",
       "  'Fibrosis': 0.8179293795938823,\n",
       "  'Hernia': 0.8876791482972539,\n",
       "  'Infiltration': 0.70446086878915,\n",
       "  'Mass': 0.8287977265150225,\n",
       "  'Nodule': 0.7611848985256415,\n",
       "  'Pleural_Thickening': 0.7799525034931103,\n",
       "  'Pneumonia': 0.7614770562950782,\n",
       "  'Pneumothorax': 0.8667507456671113,\n",
       "  'mean': 0.8282014858713691},\n",
       " 'f1': {'Atelectasis': 0.2447705276303465,\n",
       "  'Cardiomegaly': 0.271604938271605,\n",
       "  'Consolidation': 0.004158004158004158,\n",
       "  'Edema': 0.0709812108559499,\n",
       "  'Effusion': 0.47989789406509253,\n",
       "  'Emphysema': 0.29914529914529914,\n",
       "  'Fibrosis': 0.016260162601626018,\n",
       "  'Hernia': 0.0,\n",
       "  'Infiltration': 0.1614802354920101,\n",
       "  'Mass': 0.27992633517495397,\n",
       "  'Nodule': 0.10554442217768872,\n",
       "  'Pleural_Thickening': 0.013315579227696406,\n",
       "  'Pneumonia': 0.0,\n",
       "  'Pneumothorax': 0.2685003274394237,\n",
       "  'mean': 0.15825606687426402,\n",
       "  'globale': 0.22144163736545924},\n",
       " 'recall': {'Atelectasis': 0.16178291374329343,\n",
       "  'Cardiomegaly': 0.18900343642611683,\n",
       "  'Consolidation': 0.0020898641588296763,\n",
       "  'Edema': 0.04116222760290557,\n",
       "  'Effusion': 0.409288824383164,\n",
       "  'Emphysema': 0.206286836935167,\n",
       "  'Fibrosis': 0.008287292817679558,\n",
       "  'Hernia': 0.0,\n",
       "  'Infiltration': 0.0973630831643002,\n",
       "  'Mass': 0.20017559262510976,\n",
       "  'Nodule': 0.059087509349289455,\n",
       "  'Pleural_Thickening': 0.006811989100817439,\n",
       "  'Pneumonia': 0.0,\n",
       "  'Pneumothorax': 0.18824609733700642,\n",
       "  'globale': 0.1606333474345803},\n",
       " 'MMC': {'Atelectasis': 0.24125779780000534,\n",
       "  'Cardiomegaly': 0.2909944098657651,\n",
       "  'Consolidation': 0.026401317869164973,\n",
       "  'Edema': 0.09664292956573804,\n",
       "  'Effusion': 0.4290261040660261,\n",
       "  'Emphysema': 0.3261449024772681,\n",
       "  'Fibrosis': 0.057829594932642364,\n",
       "  'Hernia': 0.0,\n",
       "  'Infiltration': 0.15125027639154634,\n",
       "  'Mass': 0.2821666692497892,\n",
       "  'Nodule': 0.1554291012288742,\n",
       "  'Pleural_Thickening': 0.04046384206716407,\n",
       "  'Pneumonia': 0.0,\n",
       "  'Pneumothorax': 0.2754445852182834,\n",
       "  'mean': 0.16950368076659053},\n",
       " 'precision': {'Atelectasis': 0.5025641025641026,\n",
       "  'Cardiomegaly': 0.4824561403508772,\n",
       "  'Consolidation': 0.4,\n",
       "  'Edema': 0.25757575757575757,\n",
       "  'Effusion': 0.579948586118252,\n",
       "  'Emphysema': 0.5440414507772021,\n",
       "  'Fibrosis': 0.42857142857142855,\n",
       "  'Hernia': 0.0,\n",
       "  'Infiltration': 0.4729064039408867,\n",
       "  'Mass': 0.46530612244897956,\n",
       "  'Nodule': 0.49375,\n",
       "  'Pleural_Thickening': 0.29411764705882354,\n",
       "  'Pneumonia': 0.0,\n",
       "  'Pneumothorax': 0.4680365296803653,\n",
       "  'globale': 0.47131949932806627},\n",
       " 'accuracy': 11828,\n",
       " 'gmean': {'Atelectasis': 0.39830377066591,\n",
       "  'Cardiomegaly': 0.4335698076216097,\n",
       "  'Consolidation': 0.04571183899162817,\n",
       "  'Edema': 0.2026589039871645,\n",
       "  'Effusion': 0.6263345147944116,\n",
       "  'Emphysema': 0.45327566578965867,\n",
       "  'Fibrosis': 0.09102631973399691,\n",
       "  'Hernia': 0.0,\n",
       "  'Infiltration': 0.30839785173077444,\n",
       "  'Mass': 0.44464890089667974,\n",
       "  'Nodule': 0.2426121132859007,\n",
       "  'Pleural_Thickening': 0.08251195021712877,\n",
       "  'Pneumonia': 0.0,\n",
       "  'Pneumothorax': 0.4314986958022965}}"
      ]
     },
     "execution_count": 6,
     "metadata": {},
     "output_type": "execute_result"
    }
   ],
   "source": [
    "metric_res"
   ]
  },
  {
   "cell_type": "code",
   "execution_count": 7,
   "metadata": {},
   "outputs": [
    {
     "name": "stderr",
     "output_type": "stream",
     "text": [
      "100%|██████████| 1403/1403 [03:49<00:00,  6.12it/s]\n"
     ]
    }
   ],
   "source": [
    " # get preds and AUCs on test fold\n",
    "preds, aucs = E.make_pred_multilabel(data_transforms, model, cfg)"
   ]
  },
  {
   "cell_type": "code",
   "execution_count": 8,
   "metadata": {},
   "outputs": [
    {
     "data": {
      "text/html": [
       "<div>\n",
       "<style scoped>\n",
       "    .dataframe tbody tr th:only-of-type {\n",
       "        vertical-align: middle;\n",
       "    }\n",
       "\n",
       "    .dataframe tbody tr th {\n",
       "        vertical-align: top;\n",
       "    }\n",
       "\n",
       "    .dataframe thead th {\n",
       "        text-align: right;\n",
       "    }\n",
       "</style>\n",
       "<table border=\"1\" class=\"dataframe\">\n",
       "  <thead>\n",
       "    <tr style=\"text-align: right;\">\n",
       "      <th></th>\n",
       "      <th>label</th>\n",
       "      <th>auc</th>\n",
       "    </tr>\n",
       "  </thead>\n",
       "  <tbody>\n",
       "    <tr>\n",
       "      <th>0</th>\n",
       "      <td>Atelectasis</td>\n",
       "      <td>0.807973</td>\n",
       "    </tr>\n",
       "    <tr>\n",
       "      <th>1</th>\n",
       "      <td>Cardiomegaly</td>\n",
       "      <td>0.894176</td>\n",
       "    </tr>\n",
       "    <tr>\n",
       "      <th>2</th>\n",
       "      <td>Consolidation</td>\n",
       "      <td>0.801088</td>\n",
       "    </tr>\n",
       "    <tr>\n",
       "      <th>3</th>\n",
       "      <td>Edema</td>\n",
       "      <td>0.888980</td>\n",
       "    </tr>\n",
       "    <tr>\n",
       "      <th>4</th>\n",
       "      <td>Effusion</td>\n",
       "      <td>0.877533</td>\n",
       "    </tr>\n",
       "    <tr>\n",
       "      <th>5</th>\n",
       "      <td>Emphysema</td>\n",
       "      <td>0.916838</td>\n",
       "    </tr>\n",
       "    <tr>\n",
       "      <th>6</th>\n",
       "      <td>Fibrosis</td>\n",
       "      <td>0.817929</td>\n",
       "    </tr>\n",
       "    <tr>\n",
       "      <th>7</th>\n",
       "      <td>Hernia</td>\n",
       "      <td>0.887679</td>\n",
       "    </tr>\n",
       "    <tr>\n",
       "      <th>8</th>\n",
       "      <td>Infiltration</td>\n",
       "      <td>0.704461</td>\n",
       "    </tr>\n",
       "    <tr>\n",
       "      <th>9</th>\n",
       "      <td>Mass</td>\n",
       "      <td>0.828798</td>\n",
       "    </tr>\n",
       "    <tr>\n",
       "      <th>10</th>\n",
       "      <td>Nodule</td>\n",
       "      <td>0.761185</td>\n",
       "    </tr>\n",
       "    <tr>\n",
       "      <th>11</th>\n",
       "      <td>Pleural_Thickening</td>\n",
       "      <td>0.779953</td>\n",
       "    </tr>\n",
       "    <tr>\n",
       "      <th>12</th>\n",
       "      <td>Pneumonia</td>\n",
       "      <td>0.761477</td>\n",
       "    </tr>\n",
       "    <tr>\n",
       "      <th>13</th>\n",
       "      <td>Pneumothorax</td>\n",
       "      <td>0.866751</td>\n",
       "    </tr>\n",
       "  </tbody>\n",
       "</table>\n",
       "</div>"
      ],
      "text/plain": [
       "                 label       auc\n",
       "0          Atelectasis  0.807973\n",
       "1         Cardiomegaly  0.894176\n",
       "2        Consolidation  0.801088\n",
       "3                Edema  0.888980\n",
       "4             Effusion  0.877533\n",
       "5            Emphysema  0.916838\n",
       "6             Fibrosis  0.817929\n",
       "7               Hernia  0.887679\n",
       "8         Infiltration  0.704461\n",
       "9                 Mass  0.828798\n",
       "10              Nodule  0.761185\n",
       "11  Pleural_Thickening  0.779953\n",
       "12           Pneumonia  0.761477\n",
       "13        Pneumothorax  0.866751"
      ]
     },
     "execution_count": 8,
     "metadata": {},
     "output_type": "execute_result"
    }
   ],
   "source": [
    "aucs"
   ]
  },
  {
   "cell_type": "code",
   "execution_count": null,
   "metadata": {},
   "outputs": [],
   "source": [
    "preds"
   ]
  },
  {
   "cell_type": "code",
   "execution_count": null,
   "metadata": {},
   "outputs": [],
   "source": [
    "pred_df, true_df = metrics_model.make_metrics_multilabel(data_transforms, model, cfg)"
   ]
  },
  {
   "cell_type": "code",
   "execution_count": null,
   "metadata": {},
   "outputs": [],
   "source": [
    "pred_df"
   ]
  },
  {
   "cell_type": "code",
   "execution_count": null,
   "metadata": {},
   "outputs": [],
   "source": [
    "true_df"
   ]
  },
  {
   "cell_type": "code",
   "execution_count": null,
   "metadata": {},
   "outputs": [],
   "source": [
    "list(preds)[1:]"
   ]
  },
  {
   "cell_type": "code",
   "execution_count": null,
   "metadata": {},
   "outputs": [],
   "source": [
    "preds[preds.columns.drop('Image Index')].to_numpy()"
   ]
  }
 ],
 "metadata": {
  "kernelspec": {
   "display_name": "pytorch-gpu",
   "language": "python",
   "name": "python3"
  },
  "language_info": {
   "codemirror_mode": {
    "name": "ipython",
    "version": 3
   },
   "file_extension": ".py",
   "mimetype": "text/x-python",
   "name": "python",
   "nbconvert_exporter": "python",
   "pygments_lexer": "ipython3",
   "version": "3.7.16"
  },
  "orig_nbformat": 4
 },
 "nbformat": 4,
 "nbformat_minor": 2
}
